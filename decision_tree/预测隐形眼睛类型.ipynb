{
 "cells": [
  {
   "cell_type": "code",
   "execution_count": 1,
   "metadata": {
    "collapsed": true
   },
   "outputs": [],
   "source": [
    "import numpy as np"
   ]
  },
  {
   "cell_type": "code",
   "execution_count": 2,
   "metadata": {
    "collapsed": true
   },
   "outputs": [],
   "source": [
    "class DecisionTree:\n",
    "    \n",
    "    def _calShannonEnt(self, X, Y):\n",
    "        pass\n",
    "    \n",
    "    def _splitDataset(self, X, Y, index, value):\n",
    "        pass\n",
    "    \n",
    "    def _chooseBestFeature(self, X, Y):\n",
    "        pass\n",
    "    \n",
    "    def _majorityCount(self, Y):\n",
    "        pass\n",
    "    \n",
    "    def _createTree(self, X, Y, featureNames):\n",
    "        pass\n",
    "    \n",
    "    def fit(self, X, Y, featureNames):\n",
    "        pass\n",
    "    \n",
    "    def predict(self, X):\n",
    "        pass"
   ]
  },
  {
   "cell_type": "code",
   "execution_count": null,
   "metadata": {
    "collapsed": true
   },
   "outputs": [],
   "source": []
  }
 ],
 "metadata": {
  "kernelspec": {
   "display_name": "Python 3",
   "language": "python",
   "name": "python3"
  },
  "language_info": {
   "codemirror_mode": {
    "name": "ipython",
    "version": 3
   },
   "file_extension": ".py",
   "mimetype": "text/x-python",
   "name": "python",
   "nbconvert_exporter": "python",
   "pygments_lexer": "ipython3",
   "version": "3.6.4"
  }
 },
 "nbformat": 4,
 "nbformat_minor": 2
}
