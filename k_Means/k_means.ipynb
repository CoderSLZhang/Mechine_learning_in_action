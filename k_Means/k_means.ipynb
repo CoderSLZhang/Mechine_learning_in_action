{
 "cells": [
  {
   "cell_type": "code",
   "execution_count": 53,
   "metadata": {},
   "outputs": [],
   "source": [
    "import numpy as np\n",
    "from matplotlib import pylab as plt\n",
    "\n",
    "%matplotlib inline"
   ]
  },
  {
   "cell_type": "code",
   "execution_count": 44,
   "metadata": {},
   "outputs": [],
   "source": [
    "class KMeans:\n",
    "    \n",
    "    def __init__(self, k):\n",
    "        self._k = k\n",
    "    \n",
    "    def l2Distance(self, a, b):\n",
    "        return np.sqrt(np.sum(np.square(a - b)))\n",
    "    \n",
    "    def initCentroids(self, X):\n",
    "        return X[np.random.permutation(X.shape[0])][:self._k]\n",
    "    \n",
    "    def cluster(self, X):\n",
    "        m, n = X.shape\n",
    "        Xcluster = np.zeros((m, 2))\n",
    "        centroids = self.initCentroids(X)\n",
    "        clusterChanged = True\n",
    "        \n",
    "        while clusterChanged:\n",
    "            clusterChanged = False\n",
    "            \n",
    "            for i in range(m):\n",
    "                x = X[i]\n",
    "                \n",
    "                minDistance = float('inf')\n",
    "                minCentroidsIndex = -1\n",
    "                \n",
    "                for j in range(self._k):\n",
    "                    c = centroids[j]\n",
    "                    distance = self.l2Distance(x, c)\n",
    "                    \n",
    "                    if distance < minDistance:\n",
    "                        minDistance = distance\n",
    "                        minCentroidsIndex = j\n",
    "                        \n",
    "                if Xcluster[i, 0] != minCentroidsIndex:\n",
    "                    clusterChanged = True\n",
    "\n",
    "                Xcluster[i, 0] = minCentroidsIndex\n",
    "                Xcluster[i, 1] = minDistance\n",
    "                \n",
    "            for i in range(self._k):\n",
    "                mean = np.mean(X[Xcluster[:, 0] == i], axis=0)\n",
    "                centroids[i] = mean\n",
    "                \n",
    "        self._Xcluster = Xcluster\n",
    "        self._centroids = centroids\n",
    "                \n",
    "    def fit(self, X):\n",
    "        self.cluster(X)"
   ]
  },
  {
   "cell_type": "code",
   "execution_count": 45,
   "metadata": {},
   "outputs": [],
   "source": [
    "def loadDataset(path):\n",
    "    X = []\n",
    "    with open(path) as f:\n",
    "        for line in f:\n",
    "            parts = line.strip().split('\\t')\n",
    "            parts = [float(part) for part in parts]\n",
    "            X.append(parts)\n",
    "            \n",
    "    return np.array(X)"
   ]
  },
  {
   "cell_type": "code",
   "execution_count": 46,
   "metadata": {},
   "outputs": [
    {
     "data": {
      "text/plain": [
       "(80, 2)"
      ]
     },
     "execution_count": 46,
     "metadata": {},
     "output_type": "execute_result"
    }
   ],
   "source": [
    "X = loadDataset('testSet.txt')\n",
    "X.shape"
   ]
  },
  {
   "cell_type": "code",
   "execution_count": 54,
   "metadata": {},
   "outputs": [
    {
     "data": {
      "text/plain": [
       "<matplotlib.collections.PathCollection at 0x110bdd780>"
      ]
     },
     "execution_count": 54,
     "metadata": {},
     "output_type": "execute_result"
    },
    {
     "data": {
      "image/png": "[encoded data removed]",
      "text/plain": [
       "<matplotlib.figure.Figure at 0x111987400>"
      ]
     },
     "metadata": {},
     "output_type": "display_data"
    }
   ],
   "source": [
    "plt.scatter(X[:, 0], X[:, 1])"
   ]
  },
  {
   "cell_type": "code",
   "execution_count": 63,
   "metadata": {},
   "outputs": [],
   "source": [
    "kmeans = KMeans(4)\n",
    "kmeans.fit(X)"
   ]
  },
  {
   "cell_type": "code",
   "execution_count": 64,
   "metadata": {},
   "outputs": [
    {
     "data": {
      "text/plain": [
       "<matplotlib.collections.PathCollection at 0x11e97cc18>"
      ]
     },
     "execution_count": 64,
     "metadata": {},
     "output_type": "execute_result"
    },
    {
     "data": {
      "image/png": "[encoded data removed]",
      "text/plain": [
       "<matplotlib.figure.Figure at 0x1116ac5f8>"
      ]
     },
     "metadata": {},
     "output_type": "display_data"
    }
   ],
   "source": [
    "plt.scatter(X[:, 0], X[:, 1], c=kmeans._Xcluster[:, 0])"
   ]
  },
  {
   "cell_type": "code",
   "execution_count": null,
   "metadata": {},
   "outputs": [],
   "source": []
  },
  {
   "cell_type": "code",
   "execution_count": null,
   "metadata": {},
   "outputs": [],
   "source": []
  }
 ],
 "metadata": {
  "kernelspec": {
   "display_name": "Python 3",
   "language": "python",
   "name": "python3"
  },
  "language_info": {
   "codemirror_mode": {
    "name": "ipython",
    "version": 3
   },
   "file_extension": ".py",
   "mimetype": "text/x-python",
   "name": "python",
   "nbconvert_exporter": "python",
   "pygments_lexer": "ipython3",
   "version": "3.6.4"
  }
 },
 "nbformat": 4,
 "nbformat_minor": 2
}
