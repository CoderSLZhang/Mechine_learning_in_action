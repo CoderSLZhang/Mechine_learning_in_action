{
 "cells": [
  {
   "cell_type": "code",
   "execution_count": 1,
   "metadata": {},
   "outputs": [],
   "source": [
    "import numpy as np\n",
    "import pandas as pd"
   ]
  },
  {
   "cell_type": "markdown",
   "metadata": {},
   "source": [
    "### 加载数据"
   ]
  },
  {
   "cell_type": "code",
   "execution_count": 2,
   "metadata": {},
   "outputs": [
    {
     "data": {
      "text/html": [
       "<div>\n",
       "<style scoped>\n",
       "    .dataframe tbody tr th:only-of-type {\n",
       "        vertical-align: middle;\n",
       "    }\n",
       "\n",
       "    .dataframe tbody tr th {\n",
       "        vertical-align: top;\n",
       "    }\n",
       "\n",
       "    .dataframe thead th {\n",
       "        text-align: right;\n",
       "    }\n",
       "</style>\n",
       "<table border=\"1\" class=\"dataframe\">\n",
       "  <thead>\n",
       "    <tr style=\"text-align: right;\">\n",
       "      <th></th>\n",
       "      <th>x0</th>\n",
       "      <th>x1</th>\n",
       "      <th>x2</th>\n",
       "      <th>x3</th>\n",
       "      <th>x4</th>\n",
       "      <th>x5</th>\n",
       "      <th>x6</th>\n",
       "      <th>x7</th>\n",
       "      <th>y</th>\n",
       "    </tr>\n",
       "  </thead>\n",
       "  <tbody>\n",
       "    <tr>\n",
       "      <th>0</th>\n",
       "      <td>1</td>\n",
       "      <td>0.455</td>\n",
       "      <td>0.365</td>\n",
       "      <td>0.095</td>\n",
       "      <td>0.5140</td>\n",
       "      <td>0.2245</td>\n",
       "      <td>0.1010</td>\n",
       "      <td>0.15</td>\n",
       "      <td>15</td>\n",
       "    </tr>\n",
       "    <tr>\n",
       "      <th>1</th>\n",
       "      <td>1</td>\n",
       "      <td>0.350</td>\n",
       "      <td>0.265</td>\n",
       "      <td>0.090</td>\n",
       "      <td>0.2255</td>\n",
       "      <td>0.0995</td>\n",
       "      <td>0.0485</td>\n",
       "      <td>0.07</td>\n",
       "      <td>7</td>\n",
       "    </tr>\n",
       "  </tbody>\n",
       "</table>\n",
       "</div>"
      ],
      "text/plain": [
       "   x0     x1     x2     x3      x4      x5      x6    x7   y\n",
       "0   1  0.455  0.365  0.095  0.5140  0.2245  0.1010  0.15  15\n",
       "1   1  0.350  0.265  0.090  0.2255  0.0995  0.0485  0.07   7"
      ]
     },
     "execution_count": 2,
     "metadata": {},
     "output_type": "execute_result"
    }
   ],
   "source": [
    "df = pd.read_csv('abalone.txt', names=['x0', 'x1', 'x2', 'x3', 'x4', 'x5', 'x6', 'x7', 'y'], sep='\\t')\n",
    "df.head(2)"
   ]
  },
  {
   "cell_type": "code",
   "execution_count": 3,
   "metadata": {},
   "outputs": [
    {
     "data": {
      "text/plain": [
       "((4177, 9), (4177,))"
      ]
     },
     "execution_count": 3,
     "metadata": {},
     "output_type": "execute_result"
    }
   ],
   "source": [
    "X = df.iloc[:, :-1].values\n",
    "Y = df.iloc[:, -1].values\n",
    "\n",
    "X = np.concatenate([np.ones((X.shape[0], 1)), X], axis=1)\n",
    "\n",
    "X.shape, Y.shape"
   ]
  },
  {
   "cell_type": "markdown",
   "metadata": {},
   "source": [
    "### 梯度下降"
   ]
  },
  {
   "cell_type": "code",
   "execution_count": 10,
   "metadata": {},
   "outputs": [],
   "source": [
    "class Regression:\n",
    "    \n",
    "    def __init__(self, alpha=0.01, lr=0.01, max_iter=100):\n",
    "        self._alpha = alpha\n",
    "        self._lr = lr\n",
    "        self._max_iter = max_iter\n",
    "        \n",
    "    def _cost(self, Y, Y_pre):\n",
    "        Y = Y.reshape((-1, 1))\n",
    "        Y_pre = Y_pre.reshape((-1, 1))\n",
    "        return np.mean(np.square(Y_pre - Y) + self._alpha * (self._weights.T @ self._weights)) / 2\n",
    "        \n",
    "    def _foreward(self, X):\n",
    "        m, n = X.shape\n",
    "        Y_pre = X @ self._weights\n",
    "        cost = self._cost(Y, Y_pre)\n",
    "        \n",
    "        return cost, Y_pre\n",
    "    \n",
    "    def _backward(self, X, Y, Y_pre):\n",
    "        Y = Y.reshape((-1, 1))\n",
    "        Y_pre = Y_pre.reshape((-1, 1))\n",
    "        m = X.shape[0]\n",
    "        \n",
    "        weights_diff =  X.T @ (Y_pre - Y) / m  + (self._alpha / m) * self._weights\n",
    "        \n",
    "        return weights_diff\n",
    "    \n",
    "    def fit(self, X, Y):\n",
    "        n = X.shape[1]\n",
    "        self._weights = np.random.randn(n, 1)\n",
    "        \n",
    "        for step in range(self._max_iter):\n",
    "            cost, Y_pre = self._foreward(X)\n",
    "            weights_diff = self._backward(X, Y, Y_pre)\n",
    "            \n",
    "            self._weights -= self._lr * weights_diff\n",
    "            \n",
    "            print('step:{0} -- cost:{1}'.format(step, cost))\n",
    "            \n",
    "    def predict(self, X):\n",
    "        return X @ self._weights\n",
    "        \n",
    "    def mse(self, Y, Y_pre):\n",
    "        Y = Y.reshape((-1, 1))\n",
    "        return np.mean(np.square(Y - Y_pre))\n",
    "    \n",
    "    def r2(self, Y, Y_pre):\n",
    "        Y = Y.reshape((-1, 1))\n",
    "        Y_pre = Y_pre.reshape((-1, 1))\n",
    "        return 1 - (np.sum(np.square(Y - Y_pre)) / np.sum(np.square(Y - np.mean(Y))))"
   ]
  },
  {
   "cell_type": "code",
   "execution_count": 11,
   "metadata": {},
   "outputs": [],
   "source": [
    "class StandardScaler:\n",
    "    \n",
    "    def fit(self, X):\n",
    "        self._mean = np.mean(X)\n",
    "        self._std = np.std(X)\n",
    "        \n",
    "    def transform(self, X):\n",
    "        return (X - self._mean) / self._std"
   ]
  },
  {
   "cell_type": "code",
   "execution_count": 12,
   "metadata": {},
   "outputs": [],
   "source": [
    "scaler = StandardScaler()\n",
    "scaler.fit(X)\n",
    "X_std = scaler.transform(X)"
   ]
  },
  {
   "cell_type": "code",
   "execution_count": 19,
   "metadata": {},
   "outputs": [
    {
     "name": "stdout",
     "output_type": "stream",
     "text": [
      "step:0 -- cost:64.38564616672753\n",
      "step:1 -- cost:22.730376443671386\n",
      "step:2 -- cost:11.537535565362898\n",
      "step:3 -- cost:7.879325670743284\n",
      "step:4 -- cost:6.33134982318201\n",
      "step:5 -- cost:5.514725314790283\n",
      "step:6 -- cost:5.023348278295521\n",
      "step:7 -- cost:4.707163268363999\n",
      "step:8 -- cost:4.49607927603513\n",
      "step:9 -- cost:4.351566275970487\n",
      "step:10 -- cost:4.2505102063688005\n",
      "step:11 -- cost:4.178413726083132\n",
      "step:12 -- cost:4.125942895511343\n",
      "step:13 -- cost:4.086971437510539\n",
      "step:14 -- cost:4.057411009929442\n",
      "step:15 -- cost:4.034491104845221\n",
      "step:16 -- cost:4.0163072435011635\n",
      "step:17 -- cost:4.001532968284262\n",
      "step:18 -- cost:3.9892334325214027\n",
      "step:19 -- cost:3.9787428954531316\n",
      "step:20 -- cost:3.9695829802954097\n",
      "step:21 -- cost:3.9614073142714434\n",
      "step:22 -- cost:3.953963500957593\n",
      "step:23 -- cost:3.9470666531189833\n",
      "step:24 -- cost:3.9405807517129605\n",
      "step:25 -- cost:3.934405378694865\n",
      "step:26 -- cost:3.928466188620935\n",
      "step:27 -- cost:3.9227080126569183\n",
      "step:28 -- cost:3.9170898355971753\n",
      "step:29 -- cost:3.9115811177421334\n",
      "step:30 -- cost:3.9061590898951346\n",
      "step:31 -- cost:3.900806757054142\n",
      "step:32 -- cost:3.8955114209823867\n",
      "step:33 -- cost:3.890263584337984\n",
      "step:34 -- cost:3.885056136373092\n",
      "step:35 -- cost:3.8798837470041887\n",
      "step:36 -- cost:3.8747424154326886\n",
      "step:37 -- cost:3.8696291336025146\n",
      "step:38 -- cost:3.864541635107304\n",
      "step:39 -- cost:3.8594782077515615\n",
      "step:40 -- cost:3.854437553571282\n",
      "step:41 -- cost:3.8494186842641294\n",
      "step:42 -- cost:3.844420843052954\n",
      "step:43 -- cost:3.8394434462901676\n",
      "step:44 -- cost:3.8344860398097045\n",
      "step:45 -- cost:3.8295482662990454\n",
      "step:46 -- cost:3.8246298409074906\n",
      "step:47 -- cost:3.819730533010974\n",
      "step:48 -- cost:3.8148501525793153\n",
      "step:49 -- cost:3.809988539984362\n",
      "step:50 -- cost:3.8051455583807354\n",
      "step:51 -- cost:3.800321088010055\n",
      "step:52 -- cost:3.795515021943283\n",
      "step:53 -- cost:3.790727262898332\n",
      "step:54 -- cost:3.7859577208615662\n",
      "step:55 -- cost:3.7812063113103127\n",
      "step:56 -- cost:3.7764729538846735\n",
      "step:57 -- cost:3.7717575713951765\n",
      "step:58 -- cost:3.767060089081475\n",
      "step:59 -- cost:3.7623804340586373\n",
      "step:60 -- cost:3.7577185349036437\n",
      "step:61 -- cost:3.753074321346617\n",
      "step:62 -- cost:3.7484477240403042\n",
      "step:63 -- cost:3.7438386743879914\n",
      "step:64 -- cost:3.7392471044150506\n",
      "step:65 -- cost:3.73467294667306\n",
      "step:66 -- cost:3.7301161341682216\n",
      "step:67 -- cost:3.725576600307912\n",
      "step:68 -- cost:3.721054278860753\n",
      "step:69 -- cost:3.716549103926741\n",
      "step:70 -- cost:3.712061009914896\n",
      "step:71 -- cost:3.7075899315264773\n",
      "step:72 -- cost:3.703135803742364\n",
      "step:73 -- cost:3.6986985618135098\n",
      "step:74 -- cost:3.694278141253695\n",
      "step:75 -- cost:3.6898744778339707\n",
      "step:76 -- cost:3.6854875075783604\n",
      "step:77 -- cost:3.681117166760491\n",
      "step:78 -- cost:3.676763391900909\n",
      "step:79 -- cost:3.6724261197648933\n",
      "step:80 -- cost:3.6681052873606506\n",
      "step:81 -- cost:3.663800831937769\n",
      "step:82 -- cost:3.659512690985879\n",
      "step:83 -- cost:3.6552408022334477\n",
      "step:84 -- cost:3.6509851036466845\n",
      "step:85 -- cost:3.6467455334285224\n",
      "step:86 -- cost:3.6425220300176453\n",
      "step:87 -- cost:3.6383145320875543\n",
      "step:88 -- cost:3.6341229785456717\n",
      "step:89 -- cost:3.629947308532447\n",
      "step:90 -- cost:3.6257874614204906\n",
      "step:91 -- cost:3.621643376813704\n",
      "step:92 -- cost:3.617514994546429\n",
      "step:93 -- cost:3.613402254682589\n",
      "step:94 -- cost:3.6093050975148393\n",
      "step:95 -- cost:3.6052234635637226\n",
      "step:96 -- cost:3.6011572935768164\n",
      "step:97 -- cost:3.5971065285278936\n",
      "step:98 -- cost:3.593071109616073\n",
      "step:99 -- cost:3.5890509782649826\n"
     ]
    }
   ],
   "source": [
    "regression = Regression(alpha=0.0001, lr=0.1, max_iter=100)\n",
    "regression.fit(X_std, Y)"
   ]
  },
  {
   "cell_type": "code",
   "execution_count": 20,
   "metadata": {},
   "outputs": [],
   "source": [
    "Y_pre = regression.predict(X)"
   ]
  },
  {
   "cell_type": "code",
   "execution_count": 21,
   "metadata": {},
   "outputs": [
    {
     "data": {
      "text/plain": [
       "(-2.5336061344000926, 36.723981463402374)"
      ]
     },
     "execution_count": 21,
     "metadata": {},
     "output_type": "execute_result"
    }
   ],
   "source": [
    "regression.r2(Y, Y_pre), regression.mse(Y, Y_pre)"
   ]
  },
  {
   "cell_type": "code",
   "execution_count": 22,
   "metadata": {},
   "outputs": [],
   "source": [
    "from sklearn import metrics"
   ]
  },
  {
   "cell_type": "code",
   "execution_count": 23,
   "metadata": {},
   "outputs": [
    {
     "data": {
      "text/plain": [
       "36.723981463402374"
      ]
     },
     "execution_count": 23,
     "metadata": {},
     "output_type": "execute_result"
    }
   ],
   "source": [
    "metrics.mean_squared_error(Y, Y_pre)"
   ]
  },
  {
   "cell_type": "code",
   "execution_count": 24,
   "metadata": {},
   "outputs": [
    {
     "data": {
      "text/plain": [
       "-2.5336061344000926"
      ]
     },
     "execution_count": 24,
     "metadata": {},
     "output_type": "execute_result"
    }
   ],
   "source": [
    "metrics.r2_score(Y, Y_pre)"
   ]
  },
  {
   "cell_type": "code",
   "execution_count": null,
   "metadata": {},
   "outputs": [],
   "source": []
  }
 ],
 "metadata": {
  "kernelspec": {
   "display_name": "Python 3",
   "language": "python",
   "name": "python3"
  },
  "language_info": {
   "codemirror_mode": {
    "name": "ipython",
    "version": 3
   },
   "file_extension": ".py",
   "mimetype": "text/x-python",
   "name": "python",
   "nbconvert_exporter": "python",
   "pygments_lexer": "ipython3",
   "version": "3.6.4"
  }
 },
 "nbformat": 4,
 "nbformat_minor": 2
}
