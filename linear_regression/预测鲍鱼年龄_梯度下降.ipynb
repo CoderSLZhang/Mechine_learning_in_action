{
 "cells": [
  {
   "cell_type": "code",
   "execution_count": 50,
   "metadata": {},
   "outputs": [],
   "source": [
    "import numpy as np\n",
    "import pandas as pd"
   ]
  },
  {
   "cell_type": "markdown",
   "metadata": {},
   "source": [
    "### 加载数据"
   ]
  },
  {
   "cell_type": "code",
   "execution_count": 51,
   "metadata": {},
   "outputs": [
    {
     "data": {
      "text/html": [
       "<div>\n",
       "<style scoped>\n",
       "    .dataframe tbody tr th:only-of-type {\n",
       "        vertical-align: middle;\n",
       "    }\n",
       "\n",
       "    .dataframe tbody tr th {\n",
       "        vertical-align: top;\n",
       "    }\n",
       "\n",
       "    .dataframe thead th {\n",
       "        text-align: right;\n",
       "    }\n",
       "</style>\n",
       "<table border=\"1\" class=\"dataframe\">\n",
       "  <thead>\n",
       "    <tr style=\"text-align: right;\">\n",
       "      <th></th>\n",
       "      <th>y</th>\n",
       "      <th>x0</th>\n",
       "      <th>x1</th>\n",
       "      <th>x2</th>\n",
       "      <th>x3</th>\n",
       "      <th>x4</th>\n",
       "      <th>x5</th>\n",
       "      <th>x6</th>\n",
       "      <th>x7</th>\n",
       "    </tr>\n",
       "  </thead>\n",
       "  <tbody>\n",
       "    <tr>\n",
       "      <th>0</th>\n",
       "      <td>1</td>\n",
       "      <td>0.455</td>\n",
       "      <td>0.365</td>\n",
       "      <td>0.095</td>\n",
       "      <td>0.5140</td>\n",
       "      <td>0.2245</td>\n",
       "      <td>0.1010</td>\n",
       "      <td>0.15</td>\n",
       "      <td>15</td>\n",
       "    </tr>\n",
       "    <tr>\n",
       "      <th>1</th>\n",
       "      <td>1</td>\n",
       "      <td>0.350</td>\n",
       "      <td>0.265</td>\n",
       "      <td>0.090</td>\n",
       "      <td>0.2255</td>\n",
       "      <td>0.0995</td>\n",
       "      <td>0.0485</td>\n",
       "      <td>0.07</td>\n",
       "      <td>7</td>\n",
       "    </tr>\n",
       "  </tbody>\n",
       "</table>\n",
       "</div>"
      ],
      "text/plain": [
       "   y     x0     x1     x2      x3      x4      x5    x6  x7\n",
       "0  1  0.455  0.365  0.095  0.5140  0.2245  0.1010  0.15  15\n",
       "1  1  0.350  0.265  0.090  0.2255  0.0995  0.0485  0.07   7"
      ]
     },
     "execution_count": 51,
     "metadata": {},
     "output_type": "execute_result"
    }
   ],
   "source": [
    "df = pd.read_csv('abalone.txt', names=['y', 'x0', 'x1', 'x2', 'x3', 'x4', 'x5', 'x6', 'x7'], sep='\\t')\n",
    "df.head(2)"
   ]
  },
  {
   "cell_type": "code",
   "execution_count": 52,
   "metadata": {},
   "outputs": [
    {
     "data": {
      "text/plain": [
       "((4177, 9), (4177,))"
      ]
     },
     "execution_count": 52,
     "metadata": {},
     "output_type": "execute_result"
    }
   ],
   "source": [
    "X = df.iloc[:, 1:].values\n",
    "Y = df.iloc[:, 0].values\n",
    "\n",
    "X = np.concatenate([np.ones((X.shape[0], 1)), X], axis=1)\n",
    "\n",
    "X.shape, Y.shape"
   ]
  },
  {
   "cell_type": "markdown",
   "metadata": {},
   "source": [
    "### 梯度下降"
   ]
  },
  {
   "cell_type": "code",
   "execution_count": 77,
   "metadata": {},
   "outputs": [],
   "source": [
    "class Regression:\n",
    "    \n",
    "    def __init__(self, alpha=0.01, lr=0.01, max_iter=100):\n",
    "        self._alpha = alpha\n",
    "        self._lr = lr\n",
    "        self._max_iter = max_iter\n",
    "        \n",
    "    def _cost(self, Y, Y_pre):\n",
    "        Y = Y.reshape((-1, 1))\n",
    "        Y_pre = Y_pre.reshape((-1, 1))\n",
    "        return np.mean(np.square(Y_pre - Y) + self._alpha * (self._weights.T @ self._weights)) / 2\n",
    "        \n",
    "    def _foreward(self, X):\n",
    "        m, n = X.shape\n",
    "        Y_pre = X @ self._weights\n",
    "        cost = self._cost(Y, Y_pre)\n",
    "        \n",
    "        return cost, Y_pre\n",
    "    \n",
    "    def _backward(self, X, Y, Y_pre):\n",
    "        Y = Y.reshape((-1, 1))\n",
    "        Y_pre = Y_pre.reshape((-1, 1))\n",
    "        m = X.shape[0]\n",
    "        \n",
    "        weights_diff = X.T @ (Y - Y_pre) / m  + (self._alpha / m) * self._weights\n",
    "        \n",
    "        return weights_diff\n",
    "    \n",
    "    def fit(self, X, Y):\n",
    "        n = X.shape[1]\n",
    "        self._weights = np.random.randn(n, 1)\n",
    "        \n",
    "        for step in range(self._max_iter):\n",
    "            cost, Y_pre = self._foreward(X)\n",
    "            weights_diff = self._backward(X, Y, Y_pre)\n",
    "            \n",
    "            self._weights -= self._lr * weights_diff\n",
    "            \n",
    "            print('step:{0} -- cost:{1}'.format(step, cost))\n",
    "            \n",
    "    def predict(self, X):\n",
    "        return X @ self._weights\n",
    "        \n",
    "    def mse(self, Y, Y_pre):\n",
    "        return np.mean(np.square(Y - Y_pre))\n",
    "    \n",
    "    def r2(self, Y, Y_pre):\n",
    "        Y = Y.reshape((-1, 1))\n",
    "        Y_pre = Y_pre.reshape((-1, 1))\n",
    "        return 1 - np.sum(np.square(Y - Y_pre)) / np.sum(np.square(Y - np.mean(Y)))"
   ]
  },
  {
   "cell_type": "code",
   "execution_count": 78,
   "metadata": {},
   "outputs": [],
   "source": [
    "class StandardScaler:\n",
    "    \n",
    "    def fit(self, X):\n",
    "        self._mean = np.mean(X)\n",
    "        self._std = np.std(X)\n",
    "        \n",
    "    def transform(self, X):\n",
    "        return (X - self._mean) / self._std"
   ]
  },
  {
   "cell_type": "code",
   "execution_count": 79,
   "metadata": {},
   "outputs": [],
   "source": [
    "scaler = StandardScaler()\n",
    "scaler.fit(X)\n",
    "X_std = scaler.transform(X)"
   ]
  },
  {
   "cell_type": "code",
   "execution_count": 84,
   "metadata": {},
   "outputs": [
    {
     "name": "stdout",
     "output_type": "stream",
     "text": [
      "step:0 -- cost:1.462386880227745\n",
      "step:1 -- cost:1.6583384864462398\n",
      "step:2 -- cost:1.8903457604501295\n",
      "step:3 -- cost:2.1650496425673484\n",
      "step:4 -- cost:2.490314262065531\n",
      "step:5 -- cost:2.8754522353193623\n",
      "step:6 -- cost:3.3314914614628104\n",
      "step:7 -- cost:3.871491058913976\n",
      "step:8 -- cost:4.510915493989639\n",
      "step:9 -- cost:5.268077619962826\n",
      "step:10 -- cost:6.1646633191214635\n",
      "step:11 -- cost:7.226352778218003\n",
      "step:12 -- cost:8.483556196135188\n",
      "step:13 -- cost:9.972285000944062\n",
      "step:14 -- cost:11.735183535718216\n",
      "step:15 -- cost:13.822750769712982\n",
      "step:16 -- cost:16.29478703552592\n",
      "step:17 -- cost:19.222107239589715\n",
      "step:18 -- cost:22.688569627502293\n",
      "step:19 -- cost:26.79347822598118\n",
      "step:20 -- cost:31.654427788633303\n",
      "step:21 -- cost:37.410672749955665\n",
      "step:22 -- cost:44.22711670421337\n",
      "step:23 -- cost:52.29903670316429\n",
      "step:24 -- cost:61.85767771831131\n",
      "step:25 -- cost:73.1768775425739\n",
      "step:26 -- cost:86.5809119271717\n",
      "step:27 -- cost:102.45378470784358\n",
      "step:28 -- cost:121.25022907180501\n",
      "step:29 -- cost:143.50873513905375\n",
      "step:30 -- cost:169.86697708320446\n",
      "step:31 -- cost:201.0800817610717\n",
      "step:32 -- cost:238.04226222617058\n",
      "step:33 -- cost:281.8124359013467\n",
      "step:34 -- cost:333.64456134163703\n",
      "step:35 -- cost:395.0235627006295\n",
      "step:36 -- cost:467.7078710948537\n",
      "step:37 -- cost:553.7798016272276\n",
      "step:38 -- cost:655.705209313185\n",
      "step:39 -- cost:776.4041329829676\n",
      "step:40 -- cost:919.3344510264063\n",
      "step:41 -- cost:1088.5909456208074\n",
      "step:42 -- cost:1289.0226135178161\n",
      "step:43 -- cost:1526.3715842080169\n",
      "step:44 -- cost:1807.4376253084658\n",
      "step:45 -- cost:2140.272948062794\n",
      "step:46 -- cost:2534.4128939067878\n",
      "step:47 -- cost:3001.149111003516\n",
      "step:48 -- cost:3553.8530469406587\n",
      "step:49 -- cost:4208.359025282779\n"
     ]
    }
   ],
   "source": [
    "regression = Regression(alpha=0, lr=0.01, max_iter=50)\n",
    "regression.fit(X_std, Y)"
   ]
  },
  {
   "cell_type": "code",
   "execution_count": 81,
   "metadata": {},
   "outputs": [],
   "source": [
    "Y_pre = regression.predict(X)"
   ]
  },
  {
   "cell_type": "code",
   "execution_count": 71,
   "metadata": {},
   "outputs": [
    {
     "data": {
      "text/plain": [
       "(-0.56403782695011406, 1.0489576723951182)"
      ]
     },
     "execution_count": 71,
     "metadata": {},
     "output_type": "execute_result"
    }
   ],
   "source": [
    "regression.r2(Y, Y_pre), regression.mse(Y, Y_pre)"
   ]
  },
  {
   "cell_type": "code",
   "execution_count": null,
   "metadata": {},
   "outputs": [],
   "source": []
  }
 ],
 "metadata": {
  "kernelspec": {
   "display_name": "Python 3",
   "language": "python",
   "name": "python3"
  },
  "language_info": {
   "codemirror_mode": {
    "name": "ipython",
    "version": 3
   },
   "file_extension": ".py",
   "mimetype": "text/x-python",
   "name": "python",
   "nbconvert_exporter": "python",
   "pygments_lexer": "ipython3",
   "version": "3.6.4"
  }
 },
 "nbformat": 4,
 "nbformat_minor": 2
}
