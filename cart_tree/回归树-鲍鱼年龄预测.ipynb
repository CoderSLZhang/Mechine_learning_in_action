{
 "cells": [
  {
   "cell_type": "code",
   "execution_count": 4,
   "metadata": {},
   "outputs": [],
   "source": [
    "import numpy as np\n",
    "import pandas as pd"
   ]
  },
  {
   "cell_type": "code",
   "execution_count": 5,
   "metadata": {},
   "outputs": [
    {
     "data": {
      "text/html": [
       "<div>\n",
       "<style scoped>\n",
       "    .dataframe tbody tr th:only-of-type {\n",
       "        vertical-align: middle;\n",
       "    }\n",
       "\n",
       "    .dataframe tbody tr th {\n",
       "        vertical-align: top;\n",
       "    }\n",
       "\n",
       "    .dataframe thead th {\n",
       "        text-align: right;\n",
       "    }\n",
       "</style>\n",
       "<table border=\"1\" class=\"dataframe\">\n",
       "  <thead>\n",
       "    <tr style=\"text-align: right;\">\n",
       "      <th></th>\n",
       "      <th>x0</th>\n",
       "      <th>x1</th>\n",
       "      <th>x2</th>\n",
       "      <th>x3</th>\n",
       "      <th>x4</th>\n",
       "      <th>x5</th>\n",
       "      <th>x6</th>\n",
       "      <th>x7</th>\n",
       "      <th>y</th>\n",
       "    </tr>\n",
       "  </thead>\n",
       "  <tbody>\n",
       "    <tr>\n",
       "      <th>0</th>\n",
       "      <td>1</td>\n",
       "      <td>0.455</td>\n",
       "      <td>0.365</td>\n",
       "      <td>0.095</td>\n",
       "      <td>0.5140</td>\n",
       "      <td>0.2245</td>\n",
       "      <td>0.1010</td>\n",
       "      <td>0.150</td>\n",
       "      <td>15</td>\n",
       "    </tr>\n",
       "    <tr>\n",
       "      <th>1</th>\n",
       "      <td>1</td>\n",
       "      <td>0.350</td>\n",
       "      <td>0.265</td>\n",
       "      <td>0.090</td>\n",
       "      <td>0.2255</td>\n",
       "      <td>0.0995</td>\n",
       "      <td>0.0485</td>\n",
       "      <td>0.070</td>\n",
       "      <td>7</td>\n",
       "    </tr>\n",
       "    <tr>\n",
       "      <th>2</th>\n",
       "      <td>-1</td>\n",
       "      <td>0.530</td>\n",
       "      <td>0.420</td>\n",
       "      <td>0.135</td>\n",
       "      <td>0.6770</td>\n",
       "      <td>0.2565</td>\n",
       "      <td>0.1415</td>\n",
       "      <td>0.210</td>\n",
       "      <td>9</td>\n",
       "    </tr>\n",
       "    <tr>\n",
       "      <th>3</th>\n",
       "      <td>1</td>\n",
       "      <td>0.440</td>\n",
       "      <td>0.365</td>\n",
       "      <td>0.125</td>\n",
       "      <td>0.5160</td>\n",
       "      <td>0.2155</td>\n",
       "      <td>0.1140</td>\n",
       "      <td>0.155</td>\n",
       "      <td>10</td>\n",
       "    </tr>\n",
       "    <tr>\n",
       "      <th>4</th>\n",
       "      <td>0</td>\n",
       "      <td>0.330</td>\n",
       "      <td>0.255</td>\n",
       "      <td>0.080</td>\n",
       "      <td>0.2050</td>\n",
       "      <td>0.0895</td>\n",
       "      <td>0.0395</td>\n",
       "      <td>0.055</td>\n",
       "      <td>7</td>\n",
       "    </tr>\n",
       "  </tbody>\n",
       "</table>\n",
       "</div>"
      ],
      "text/plain": [
       "   x0     x1     x2     x3      x4      x5      x6     x7   y\n",
       "0   1  0.455  0.365  0.095  0.5140  0.2245  0.1010  0.150  15\n",
       "1   1  0.350  0.265  0.090  0.2255  0.0995  0.0485  0.070   7\n",
       "2  -1  0.530  0.420  0.135  0.6770  0.2565  0.1415  0.210   9\n",
       "3   1  0.440  0.365  0.125  0.5160  0.2155  0.1140  0.155  10\n",
       "4   0  0.330  0.255  0.080  0.2050  0.0895  0.0395  0.055   7"
      ]
     },
     "execution_count": 5,
     "metadata": {},
     "output_type": "execute_result"
    }
   ],
   "source": [
    "df = pd.read_csv('abalone.txt', names=['x0', 'x1', 'x2', 'x3', 'x4', 'x5', 'x6', 'x7', 'y'], sep='\\t')\n",
    "df.head(5)"
   ]
  },
  {
   "cell_type": "code",
   "execution_count": 6,
   "metadata": {},
   "outputs": [
    {
     "data": {
      "text/plain": [
       "((4177, 8), (4177,))"
      ]
     },
     "execution_count": 6,
     "metadata": {},
     "output_type": "execute_result"
    }
   ],
   "source": [
    "X = df.iloc[:, :-1].values\n",
    "Y = df.iloc[:, -1].values\n",
    "\n",
    "X.shape, Y.shape"
   ]
  },
  {
   "cell_type": "code",
   "execution_count": 121,
   "metadata": {},
   "outputs": [
    {
     "data": {
      "text/plain": [
       "((2924, 8), (1253, 8))"
      ]
     },
     "execution_count": 121,
     "metadata": {},
     "output_type": "execute_result"
    }
   ],
   "source": [
    "trainSize = round(X.shape[0] * 0.7)\n",
    "\n",
    "XTrain = X[:trainSize]\n",
    "XDev = X[trainSize:]\n",
    "\n",
    "YTrain = Y[:trainSize]\n",
    "YDev = Y[trainSize:]\n",
    "\n",
    "XTrain.shape, XDev.shape"
   ]
  },
  {
   "cell_type": "code",
   "execution_count": 129,
   "metadata": {},
   "outputs": [],
   "source": [
    "class CartTree():\n",
    "    \n",
    "    def __init__(self, tolS=1, tolN=4):\n",
    "        self._tolS = tolS\n",
    "        self._tolN = tolN\n",
    "    \n",
    "    def binSplitDataSet(self, X, Y, feature, value):\n",
    "        ltBools = X[:, feature] > value\n",
    "        leftX = X[ltBools]\n",
    "        leftY = Y[ltBools]\n",
    "        \n",
    "        stBools = X[:, feature] <= value\n",
    "        rightX = X[stBools]\n",
    "        rightY = Y[stBools]\n",
    "        \n",
    "        return leftX, leftY, rightX, rightY\n",
    "    \n",
    "    def regLeaf(self, Y):\n",
    "        return np.mean(Y)\n",
    "    \n",
    "    def regErr(self, Y):\n",
    "        m = Y.shape[0]\n",
    "        return np.var(Y) * m\n",
    "    \n",
    "    def chooseBestSplit(self, X, Y, tolS=1, tolN=4):\n",
    "        if len(set(Y)) == 1:\n",
    "            return None, self.regLeaf(Y)\n",
    "        \n",
    "        m, n = X.shape\n",
    "        S = self.regErr(Y)\n",
    "        \n",
    "        bestS = float('inf')\n",
    "        bestIndex = 0\n",
    "        bestValue = 0\n",
    "        \n",
    "        for featIndex in range(n):\n",
    "            for splitVal in set(X[:, featIndex]):\n",
    "                leftX, leftY, rightX, rightY = self.binSplitDataSet(X, Y, featIndex, splitVal)\n",
    "                \n",
    "                if leftX.shape[0] < tolS or rightX.shape[0] < tolS:\n",
    "                    continue\n",
    "                    \n",
    "                newS = self.regErr(leftY) + self.regErr(rightY)\n",
    "                if newS < bestS:\n",
    "                    bestIndex = featIndex\n",
    "                    bestValue = splitVal\n",
    "                    bestS = newS\n",
    "                    bestLeftX, bestLeftY, bestRightX, bestRightY = (leftX, leftY, rightX, rightY)\n",
    "                    \n",
    "            if (S - bestS) < tolS:\n",
    "                return None, self.regLeaf(Y)\n",
    "            \n",
    "            if bestLeftX.shape[0] < tolS or bestRightX.shape[0] < tolS:\n",
    "                return None, self.regLeaf(Y)\n",
    "            \n",
    "        return bestIndex, bestValue\n",
    "    \n",
    "    def createTree(self, X, Y, tolS=1, tolN=4):\n",
    "        feat, val = self.chooseBestSplit(X, Y, tolS, tolN)\n",
    "                \n",
    "        if feat is None:\n",
    "            return val\n",
    "        \n",
    "        regTree = {}\n",
    "        regTree['spIndex'] = feat\n",
    "        regTree['spValue'] = val\n",
    "        \n",
    "        leftX, leftY, rightX, rightY = self.binSplitDataSet(X, Y, feat, val)\n",
    "        \n",
    "        regTree['left'] = self.createTree(leftX, leftY, tolS, tolN)\n",
    "        regTree['right'] = self.createTree(rightX, rightY, tolS, tolN)\n",
    "        \n",
    "        return regTree\n",
    "    \n",
    "    def isTree(self, obj):\n",
    "        return isinstance(obj, dict)\n",
    "    \n",
    "    def getMean(self, tree):\n",
    "        if self.isTree(tree['right']): \n",
    "            tree['right'] = self.getMean(tree['right'])\n",
    "        \n",
    "        if self.isTree(tree['left']):\n",
    "            tree['left'] = self.getMean(tree['left'])\n",
    "            \n",
    "        return (tree['left'] + tree['right']) / 2.0\n",
    "    \n",
    "    def prune(self, tree, devX, devY):        \n",
    "        if devX.shape[0] == 0:\n",
    "            return self.getMean(tree)\n",
    "        \n",
    "        if self.isTree(tree['right']) or self.isTree(tree['left']):\n",
    "            leftX, leftY, rightX, rightY = self.binSplitDataSet(devX, devY, tree['spIndex'], tree['spValue'])\n",
    "            \n",
    "            if self.isTree(tree['left']):\n",
    "                tree['left'] = self.prune(tree['left'], leftX, leftY)\n",
    "        \n",
    "            if self.isTree(tree['right']):\n",
    "                tree['right'] = self.prune(tree['right'], rightX, rightY)\n",
    "        \n",
    "        if not self.isTree(tree['left']) and not self.isTree(tree['right']):\n",
    "            leftX, leftY, rightX, rightY = self.binSplitDataSet(devX, devY, tree['spIndex'], tree['spValue'])\n",
    "            errorNoMerge = np.sum((leftY - tree['left']) ** 2) + np.sum((rightY - tree['right']) ** 2)\n",
    "            treeMean = (tree['left'] + tree['right']) / 2.0\n",
    "            errorMerge = np.sum((devY - treeMean) ** 2)\n",
    "            \n",
    "            if errorMerge < errorNoMerge:\n",
    "                return treeMean\n",
    "            else:\n",
    "                return tree\n",
    "            \n",
    "        else:\n",
    "            return tree\n",
    "    \n",
    "    def predictWithTree(self, tree, x):\n",
    "        if not isinstance(tree, dict):\n",
    "            return tree\n",
    "        \n",
    "        spIndex = tree['spIndex']\n",
    "        spValue = tree['spValue']\n",
    "        \n",
    "        if x[spIndex] > spValue:\n",
    "            return self.predictWithTree(tree['left'], x)\n",
    "        else:\n",
    "            return self.predictWithTree(tree['right'], x)\n",
    "    \n",
    "    def fit(self, X, Y, devX, devY):\n",
    "        self.tree = self.createTree(X, Y, self._tolS, self._tolN)\n",
    "        self.tree = self.prune(self.tree, devX, devY)\n",
    "        \n",
    "    def predict(self, X):\n",
    "        Y = []\n",
    "        \n",
    "        for x in X:\n",
    "            y = self.predictWithTree(self.tree, x)\n",
    "            Y.append(y)\n",
    "            \n",
    "        return np.array(Y)\n",
    "    \n",
    "    def r2Score(self, Y, Y_pre):\n",
    "        return 1 - (np.sum(np.square(Y - Y_pre)) / np.sum(np.square(Y - np.mean(Y))))"
   ]
  },
  {
   "cell_type": "code",
   "execution_count": 130,
   "metadata": {},
   "outputs": [],
   "source": [
    "regTree = CartTree(tolS=0.1, tolN=1)\n",
    "regTree.fit(XTrain, YTrain, XDev, YDev)"
   ]
  },
  {
   "cell_type": "code",
   "execution_count": 131,
   "metadata": {},
   "outputs": [],
   "source": [
    "Y_pre = regTree.predict(XDev)"
   ]
  },
  {
   "cell_type": "code",
   "execution_count": 132,
   "metadata": {},
   "outputs": [
    {
     "data": {
      "text/plain": [
       "0.25538520832252876"
      ]
     },
     "execution_count": 132,
     "metadata": {},
     "output_type": "execute_result"
    }
   ],
   "source": [
    "regTree.r2Score(YDev, Y_pre)"
   ]
  },
  {
   "cell_type": "code",
   "execution_count": null,
   "metadata": {},
   "outputs": [],
   "source": []
  }
 ],
 "metadata": {
  "kernelspec": {
   "display_name": "Python 3",
   "language": "python",
   "name": "python3"
  },
  "language_info": {
   "codemirror_mode": {
    "name": "ipython",
    "version": 3
   },
   "file_extension": ".py",
   "mimetype": "text/x-python",
   "name": "python",
   "nbconvert_exporter": "python",
   "pygments_lexer": "ipython3",
   "version": "3.6.4"
  }
 },
 "nbformat": 4,
 "nbformat_minor": 2
}
