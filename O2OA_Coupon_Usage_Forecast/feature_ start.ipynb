{
 "cells": [
  {
   "cell_type": "code",
   "execution_count": 1,
   "metadata": {},
   "outputs": [],
   "source": [
    "import pandas as pd\n",
    "import numpy as np\n",
    "from datetime import date\n",
    "import datetime as dt"
   ]
  },
  {
   "cell_type": "code",
   "execution_count": 25,
   "metadata": {},
   "outputs": [],
   "source": [
    "#将数据分为3个数据集 利用滑窗法\n",
    "#将2016年1月1日到4月13日的数据提取特征，利用4月14日的到5月14日的作为测试集\n",
    "#将2月1日到5月14日的作为数据集提取特征，利用5月15日6月15日的作为测试集\n",
    "#将3月15日到6月30日作为数据集提取特征，再测试7月1日到7月31日的数据\n",
    "\n",
    "\n",
    "#1 提取用户特征\n",
    "#    距离\n",
    "#    用户的平均距离，用户的最小距离，用户的最大距离\n",
    "#    使用优惠券买的物品数，买的总数，收到的优惠券数\n",
    "#    使用优惠券买的/总共收到的优惠券"
   ]
  },
  {
   "cell_type": "code",
   "execution_count": 5,
   "metadata": {},
   "outputs": [],
   "source": [
    "#利用pandas读取csv个格式的数据,header=None表示原文件没有索引\n",
    "#原文件中总共有1754884个记录,header=0，表明第0行代表列名"
   ]
  },
  {
   "cell_type": "code",
   "execution_count": 13,
   "metadata": {},
   "outputs": [
    {
     "data": {
      "text/html": [
       "<div>\n",
       "<style scoped>\n",
       "    .dataframe tbody tr th:only-of-type {\n",
       "        vertical-align: middle;\n",
       "    }\n",
       "\n",
       "    .dataframe tbody tr th {\n",
       "        vertical-align: top;\n",
       "    }\n",
       "\n",
       "    .dataframe thead th {\n",
       "        text-align: right;\n",
       "    }\n",
       "</style>\n",
       "<table border=\"1\" class=\"dataframe\">\n",
       "  <thead>\n",
       "    <tr style=\"text-align: right;\">\n",
       "      <th></th>\n",
       "      <th>user_id</th>\n",
       "      <th>merchant_id</th>\n",
       "      <th>coupon_id</th>\n",
       "      <th>discount_rate</th>\n",
       "      <th>distance</th>\n",
       "      <th>date_received</th>\n",
       "      <th>date</th>\n",
       "    </tr>\n",
       "  </thead>\n",
       "  <tbody>\n",
       "    <tr>\n",
       "      <th>0</th>\n",
       "      <td>1439408</td>\n",
       "      <td>2632</td>\n",
       "      <td>NaN</td>\n",
       "      <td>NaN</td>\n",
       "      <td>0.0</td>\n",
       "      <td>NaN</td>\n",
       "      <td>20160217.0</td>\n",
       "    </tr>\n",
       "    <tr>\n",
       "      <th>1</th>\n",
       "      <td>1439408</td>\n",
       "      <td>4663</td>\n",
       "      <td>11002.0</td>\n",
       "      <td>150:20</td>\n",
       "      <td>1.0</td>\n",
       "      <td>20160528.0</td>\n",
       "      <td>NaN</td>\n",
       "    </tr>\n",
       "  </tbody>\n",
       "</table>\n",
       "</div>"
      ],
      "text/plain": [
       "   user_id  merchant_id  coupon_id discount_rate  distance  date_received  \\\n",
       "0  1439408         2632        NaN           NaN       0.0            NaN   \n",
       "1  1439408         4663    11002.0        150:20       1.0     20160528.0   \n",
       "\n",
       "         date  \n",
       "0  20160217.0  \n",
       "1         NaN  "
      ]
     },
     "execution_count": 13,
     "metadata": {},
     "output_type": "execute_result"
    }
   ],
   "source": [
    "off_train = pd.read_csv('data/ccf_offline_stage1_train.csv')\n",
    "off_train.columns=['user_id','merchant_id','coupon_id','discount_rate','distance','date_received','date']\n",
    "off_train.head(2)"
   ]
  },
  {
   "cell_type": "code",
   "execution_count": 36,
   "metadata": {},
   "outputs": [
    {
     "data": {
      "text/html": [
       "<div>\n",
       "<style scoped>\n",
       "    .dataframe tbody tr th:only-of-type {\n",
       "        vertical-align: middle;\n",
       "    }\n",
       "\n",
       "    .dataframe tbody tr th {\n",
       "        vertical-align: top;\n",
       "    }\n",
       "\n",
       "    .dataframe thead th {\n",
       "        text-align: right;\n",
       "    }\n",
       "</style>\n",
       "<table border=\"1\" class=\"dataframe\">\n",
       "  <thead>\n",
       "    <tr style=\"text-align: right;\">\n",
       "      <th></th>\n",
       "      <th>user_id</th>\n",
       "      <th>merchant_id</th>\n",
       "      <th>coupon_id</th>\n",
       "      <th>discount_rate</th>\n",
       "      <th>distance</th>\n",
       "      <th>date_received</th>\n",
       "    </tr>\n",
       "  </thead>\n",
       "  <tbody>\n",
       "    <tr>\n",
       "      <th>0</th>\n",
       "      <td>4129537</td>\n",
       "      <td>450</td>\n",
       "      <td>9983</td>\n",
       "      <td>30:5</td>\n",
       "      <td>1.0</td>\n",
       "      <td>20160712</td>\n",
       "    </tr>\n",
       "    <tr>\n",
       "      <th>1</th>\n",
       "      <td>6949378</td>\n",
       "      <td>1300</td>\n",
       "      <td>3429</td>\n",
       "      <td>30:5</td>\n",
       "      <td>NaN</td>\n",
       "      <td>20160706</td>\n",
       "    </tr>\n",
       "  </tbody>\n",
       "</table>\n",
       "</div>"
      ],
      "text/plain": [
       "   user_id  merchant_id  coupon_id discount_rate  distance  date_received\n",
       "0  4129537          450       9983          30:5       1.0       20160712\n",
       "1  6949378         1300       3429          30:5       NaN       20160706"
      ]
     },
     "execution_count": 36,
     "metadata": {},
     "output_type": "execute_result"
    }
   ],
   "source": [
    "off_test = pd.read_csv(\"data/ccf_offline_stage1_test_revised.csv\",header=0)\n",
    "off_test.columns = ['user_id','merchant_id','coupon_id','discount_rate','distance','date_received']\n",
    "off_test.head(2)"
   ]
  },
  {
   "cell_type": "code",
   "execution_count": 37,
   "metadata": {},
   "outputs": [
    {
     "data": {
      "text/html": [
       "<div>\n",
       "<style scoped>\n",
       "    .dataframe tbody tr th:only-of-type {\n",
       "        vertical-align: middle;\n",
       "    }\n",
       "\n",
       "    .dataframe tbody tr th {\n",
       "        vertical-align: top;\n",
       "    }\n",
       "\n",
       "    .dataframe thead th {\n",
       "        text-align: right;\n",
       "    }\n",
       "</style>\n",
       "<table border=\"1\" class=\"dataframe\">\n",
       "  <thead>\n",
       "    <tr style=\"text-align: right;\">\n",
       "      <th></th>\n",
       "      <th>user_id</th>\n",
       "      <th>merchant_id</th>\n",
       "      <th>action</th>\n",
       "      <th>coupon_id</th>\n",
       "      <th>discount_rate</th>\n",
       "      <th>date_received</th>\n",
       "      <th>date</th>\n",
       "    </tr>\n",
       "  </thead>\n",
       "  <tbody>\n",
       "    <tr>\n",
       "      <th>0</th>\n",
       "      <td>13740231</td>\n",
       "      <td>18907</td>\n",
       "      <td>2</td>\n",
       "      <td>100017492</td>\n",
       "      <td>500:50</td>\n",
       "      <td>20160513.0</td>\n",
       "      <td>NaN</td>\n",
       "    </tr>\n",
       "    <tr>\n",
       "      <th>1</th>\n",
       "      <td>13740231</td>\n",
       "      <td>34805</td>\n",
       "      <td>1</td>\n",
       "      <td>NaN</td>\n",
       "      <td>NaN</td>\n",
       "      <td>NaN</td>\n",
       "      <td>20160321.0</td>\n",
       "    </tr>\n",
       "  </tbody>\n",
       "</table>\n",
       "</div>"
      ],
      "text/plain": [
       "    user_id  merchant_id  action  coupon_id discount_rate  date_received  \\\n",
       "0  13740231        18907       2  100017492        500:50     20160513.0   \n",
       "1  13740231        34805       1        NaN           NaN            NaN   \n",
       "\n",
       "         date  \n",
       "0         NaN  \n",
       "1  20160321.0  "
      ]
     },
     "execution_count": 37,
     "metadata": {},
     "output_type": "execute_result"
    }
   ],
   "source": [
    "on_train = pd.read_csv(\"data/ccf_online_stage1_train.csv\",header=0)\n",
    "on_train.columns = ['user_id','merchant_id','action','coupon_id','discount_rate','date_received','date']\n",
    "on_train.head(2)"
   ]
  },
  {
   "cell_type": "code",
   "execution_count": 30,
   "metadata": {},
   "outputs": [],
   "source": [
    "receive_coupon_use_count = off_train[off_train.date_received.notnull() & off_train.date.notnull()].shape[0]\n",
    "receive_coupon_not_use_count = off_train[off_train.date_received.notnull() & off_train.date.isnull()].shape[0]\n",
    "not_receive_coupon_buy_count = off_train[off_train.date_received.isnull() & off_train.date.notnull()].shape[0]\n",
    "not_receive_coupon_not_buy = off_train[off_train.date_received.isnull() & off_train.date.isnull()].shape[0]"
   ]
  },
  {
   "cell_type": "code",
   "execution_count": 35,
   "metadata": {},
   "outputs": [
    {
     "name": "stdout",
     "output_type": "stream",
     "text": [
      "获得优惠卷并使用的人数: 75382\n",
      "获得优惠卷没使用的人数: 977900\n",
      "没获得优惠卷并购物的人数: 701602\n",
      "没获得优惠卷没购物的人数: 0\n"
     ]
    }
   ],
   "source": [
    "print('获得优惠卷并使用的人数:', receive_coupon_use_count)\n",
    "print('获得优惠卷没使用的人数:', receive_coupon_not_use_count)\n",
    "print('没获得优惠卷并购物的人数:', not_receive_coupon_buy_count)\n",
    "print('没获得优惠卷没购物的人数:', not_receive_coupon_not_buy)"
   ]
  },
  {
   "cell_type": "code",
   "execution_count": 42,
   "metadata": {},
   "outputs": [],
   "source": [
    "#使数据集3等于test集\n",
    "dataset3 = off_test\n",
    "#数据集3的特征为 取 线上数据中领券和用券日期大于3月15日和小于6月30日的\n",
    "feature3 = off_train[((off_train.date>=20160315)&(off_train.date<=20160630))|((off_train.date.isnull())&(off_train.date_received>=20160315)&(off_train.date_received<=20160630))]\n",
    "#提取数据集2的测试集\n",
    "dataset2 = off_train[(off_train.date_received>=20160515)&(off_train.date_received<=20160615)]\n",
    "#在2月1日到5月14日之间使用了券,只要领取时间在2月1日到5月14日之间,并包括没有数据中没有领取券的\n",
    "feature2 = off_train[(off_train.date>=20160201)&(off_train.date<=20160514)|((off_train.date.isnull())&(off_train.date_received>=20160201)&(off_train.date_received<=20160514))]\n",
    "\n",
    "#同理可得\n",
    "dataset1 = off_train[(off_train.date_received>=201604014)&(off_train.date_received<=20160514)]\n",
    "feature1 = off_train[(off_train.date>=20160101)&(off_train.date<=20160413)|((off_train.date.isnull())&(off_train.date_received>=20160101)&(off_train.date_received<=20160413))]"
   ]
  },
  {
   "cell_type": "code",
   "execution_count": 38,
   "metadata": {},
   "outputs": [],
   "source": [
    "#这里用到的特征有\n",
    "#    用户领取的所有优惠券数目\n",
    "#    ◦用户领取的特定优惠券数目\n",
    "#    ◦用户此次之后/前领取的所有优惠券数目\n",
    "#    ◦用户此次之后/前领取的特定优惠券数目\n",
    "#    ◦用户上/下一次领取的时间间隔\n",
    "#    ◦用户领取特定商家的优惠券数目\n",
    "#    ◦用户领取的不同商家数目\n",
    "#    ◦用户当天领取的优惠券数目\n",
    "#    ◦用户当天领取的特定优惠券数目\n",
    "#    ◦用户领取的所有优惠券种类数目\n",
    "#    ◦商家被领取的优惠券数目\n",
    "#    ◦商家被领取的特定优惠券数目\n",
    "#    ◦商家被多少不同用户领取的数目\n",
    "#    ◦商家发行的所有优惠券种类数目\n",
    "#这些特征都是在预测集中被提取的"
   ]
  },
  {
   "cell_type": "code",
   "execution_count": 55,
   "metadata": {},
   "outputs": [],
   "source": [
    "#t代表数据的特征t ,t1 ,t2........\n",
    "\n",
    "\n",
    "#对于测试集3，提取用户的Id\n",
    "t = dataset3[['user_id']].copy()\n",
    "#相当于给原有数据加上一列，这个月用户收取的所有优惠券数目，并初始化为1\n",
    "t['this_month_user_receive_all_coupon_count'] = 1\n",
    "\n",
    "#将t按照用户id进行分组，然后统计所有用户收取的优惠券数目,并初始化一个索引值\n",
    "t = t.groupby('user_id').agg('sum').reset_index()"
   ]
  },
  {
   "cell_type": "code",
   "execution_count": 58,
   "metadata": {},
   "outputs": [],
   "source": [
    "#提取数据集3的优惠券Id和用户Id\n",
    "t1 = dataset3[['user_id','coupon_id']].copy()\n",
    "#提取这个月用户收到的相同的优惠券的数量\n",
    "t1['this_month_user_receive_same_coupn_count'] = 1\n",
    "t1 = t1.groupby(['user_id','coupon_id']).agg('sum').reset_index()"
   ]
  },
  {
   "cell_type": "code",
   "execution_count": null,
   "metadata": {},
   "outputs": [],
   "source": []
  }
 ],
 "metadata": {
  "kernelspec": {
   "display_name": "Python 3",
   "language": "python",
   "name": "python3"
  },
  "language_info": {
   "codemirror_mode": {
    "name": "ipython",
    "version": 3
   },
   "file_extension": ".py",
   "mimetype": "text/x-python",
   "name": "python",
   "nbconvert_exporter": "python",
   "pygments_lexer": "ipython3",
   "version": "3.6.4"
  }
 },
 "nbformat": 4,
 "nbformat_minor": 2
}
