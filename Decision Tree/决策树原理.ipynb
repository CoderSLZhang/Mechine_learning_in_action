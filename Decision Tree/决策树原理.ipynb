{
 "cells": [
  {
   "cell_type": "markdown",
   "metadata": {},
   "source": [
    "### 优点："
   ]
  },
  {
   "cell_type": "markdown",
   "metadata": {},
   "source": [
    "1 可以从数据集中提取知识规则，数据形式非常容易理解；\n",
    "\n",
    "2 计算复杂度不高，输出结果易于理解，对中间值的缺失不敏感，可以处理不相关的特征数据；\n"
   ]
  },
  {
   "cell_type": "markdown",
   "metadata": {},
   "source": [
    "### 缺点"
   ]
  },
  {
   "cell_type": "markdown",
   "metadata": {},
   "source": [
    "1 容易产生过度匹配； "
   ]
  },
  {
   "cell_type": "markdown",
   "metadata": {},
   "source": [
    "### 适用范围"
   ]
  },
  {
   "cell_type": "markdown",
   "metadata": {},
   "source": [
    "数值型，标称型"
   ]
  },
  {
   "cell_type": "code",
   "execution_count": null,
   "metadata": {},
   "outputs": [],
   "source": []
  }
 ],
 "metadata": {
  "kernelspec": {
   "display_name": "Python 3",
   "language": "python",
   "name": "python3"
  },
  "language_info": {
   "codemirror_mode": {
    "name": "ipython",
    "version": 3
   },
   "file_extension": ".py",
   "mimetype": "text/x-python",
   "name": "python",
   "nbconvert_exporter": "python",
   "pygments_lexer": "ipython3",
   "version": "3.6.4"
  }
 },
 "nbformat": 4,
 "nbformat_minor": 2
}
