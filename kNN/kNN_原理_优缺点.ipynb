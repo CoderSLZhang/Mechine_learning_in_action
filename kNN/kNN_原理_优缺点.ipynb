{
 "cells": [
  {
   "cell_type": "markdown",
   "metadata": {},
   "source": [
    "## kNN原理\n",
    "\n",
    "kNN是一种基于实例的机器学习算法，首先记住一个训练集，通过比较预测样本与训练集的相似度进行分类或回归。\n",
    "\n",
    "算法步骤如下：\n",
    "\n",
    "1 记住带有标签的训练集；\n",
    "\n",
    "2 比较预测样本与训练集中每个样本的距离（欧式距离）；\n",
    "\n",
    "3 把距离从小到大排序，取前k个训练集样本；\n",
    "\n",
    "4 k个训练集样本中标签占多数的类别为预测结果；"
   ]
  },
  {
   "cell_type": "markdown",
   "metadata": {},
   "source": [
    "## 优点\n",
    "\n",
    "精度高，对异常值不敏感，没有数据输入假定"
   ]
  },
  {
   "cell_type": "markdown",
   "metadata": {},
   "source": [
    "## 缺点\n",
    "\n",
    "计算时间、空间复杂度高\n",
    "\n",
    "样本不平衡问题\n",
    "\n",
    "无法给出数据的内在含义"
   ]
  },
  {
   "cell_type": "markdown",
   "metadata": {},
   "source": [
    "## 适用范围\n",
    "\n",
    "数值型、标称型"
   ]
  },
  {
   "cell_type": "code",
   "execution_count": null,
   "metadata": {},
   "outputs": [],
   "source": []
  },
  {
   "cell_type": "code",
   "execution_count": null,
   "metadata": {},
   "outputs": [],
   "source": []
  }
 ],
 "metadata": {
  "kernelspec": {
   "display_name": "Python 3",
   "language": "python",
   "name": "python3"
  },
  "language_info": {
   "codemirror_mode": {
    "name": "ipython",
    "version": 3
   },
   "file_extension": ".py",
   "mimetype": "text/x-python",
   "name": "python",
   "nbconvert_exporter": "python",
   "pygments_lexer": "ipython3",
   "version": "3.6.4"
  }
 },
 "nbformat": 4,
 "nbformat_minor": 2
}
