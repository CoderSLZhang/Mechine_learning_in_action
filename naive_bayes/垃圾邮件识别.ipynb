{
 "cells": [
  {
   "cell_type": "code",
   "execution_count": 22,
   "metadata": {
    "collapsed": true
   },
   "outputs": [],
   "source": [
    "import numpy as np\n",
    "import re"
   ]
  },
  {
   "cell_type": "code",
   "execution_count": 18,
   "metadata": {
    "collapsed": true
   },
   "outputs": [],
   "source": [
    "SPAM_DIR = 'email/spam/'\n",
    "NONSPAM_DIR = 'email/ham/'"
   ]
  },
  {
   "cell_type": "code",
   "execution_count": 19,
   "metadata": {
    "collapsed": true
   },
   "outputs": [],
   "source": [
    "def loadDataset():\n",
    "    X = []\n",
    "    Y = []\n",
    "    \n",
    "    for i in range(1, 26):\n",
    "        spam_path = '{0}{1}.txt'.format(SPAM_DIR, i)\n",
    "        nonspam_path = '{0}{1}.txt'.format(NONSPAM_DIR, i)\n",
    "        \n",
    "        with open(spam_path, encoding='gbk') as f:\n",
    "            spam = f.read()\n",
    "            spamWords = re.split(r'\\W+', spam)\n",
    "            \n",
    "        X.append(spamWords)\n",
    "        Y.append(1)\n",
    "            \n",
    "        with open(nonspam_path, encoding='gbk') as f:\n",
    "            nonspam = f.read()\n",
    "            nonspamWords = re.split(r'\\W+', nonspam)\n",
    "            \n",
    "        X.append(nonspamWords)\n",
    "        Y.append(0)\n",
    "        \n",
    "    return X, Y"
   ]
  },
  {
   "cell_type": "code",
   "execution_count": 32,
   "metadata": {},
   "outputs": [],
   "source": [
    "texts, Y = loadDataset()"
   ]
  },
  {
   "cell_type": "code",
   "execution_count": 33,
   "metadata": {},
   "outputs": [],
   "source": [
    "def createVocab(X):\n",
    "    vocab = set()\n",
    "    \n",
    "    for x in X:\n",
    "        vocab = vocab | set(x)\n",
    "        \n",
    "    vocab = list(vocab)\n",
    "    word2Index = dict(zip(vocab, range(len(vocab))))\n",
    "    \n",
    "    return vocab, word2Index"
   ]
  },
  {
   "cell_type": "code",
   "execution_count": 34,
   "metadata": {},
   "outputs": [],
   "source": [
    "_, word2Index = createVocab(texts)"
   ]
  },
  {
   "cell_type": "code",
   "execution_count": 45,
   "metadata": {},
   "outputs": [],
   "source": [
    "def createDataset(texts, word2Index):\n",
    "    X = np.zeros((len(texts), len(word2Index)))\n",
    "    \n",
    "    for i, words in enumerate(texts):\n",
    "        for word in words:\n",
    "            index = word2Index[word]\n",
    "            X[i, index] = 1\n",
    "            \n",
    "    return X"
   ]
  },
  {
   "cell_type": "code",
   "execution_count": 46,
   "metadata": {},
   "outputs": [
    {
     "data": {
      "text/plain": [
       "(50, 844)"
      ]
     },
     "execution_count": 46,
     "metadata": {},
     "output_type": "execute_result"
    }
   ],
   "source": [
    "X = createDataset(texts, word2Index)\n",
    "X.shape"
   ]
  },
  {
   "cell_type": "code",
   "execution_count": 63,
   "metadata": {
    "collapsed": true
   },
   "outputs": [],
   "source": [
    "class NaiveBayes():\n",
    "    \n",
    "    def calProb(self, X, Y):\n",
    "        count = len(X)\n",
    "        vocabLen = len(X[0])\n",
    "        \n",
    "        spamWordsProbs = np.ones((vocabLen,))\n",
    "        nonspamWordsProbs = np.ones((vocabLen,))\n",
    "        \n",
    "        for i in range(count):\n",
    "            if Y[i] == 1:\n",
    "                spamWordsProbs += X[i]\n",
    "            else:\n",
    "                nonspamWordsProbs += X[i]\n",
    "                \n",
    "        spamProbs = np.sum(Y) / count\n",
    "        \n",
    "        return spamWordsProbs, nonspamWordsProbs, spamProbs\n",
    "    \n",
    "    def fit(self, X, Y):\n",
    "        self._spamWordsProbs, self._nonspamWordsProbs, self._spamProbs = self.calProb(X, Y)\n",
    "        \n",
    "    def predict(self, X):\n",
    "        Y = []\n",
    "        \n",
    "        for x in X:\n",
    "            spam = np.sum(x * np.log(self._spamWordsProbs / np.sum(self._spamWordsProbs))) + np.log(self._spamProbs)\n",
    "            nonspam = np.sum(x * np.log(self._nonspamWordsProbs / np.sum(self._nonspamWordsProbs))) \\\n",
    "                        + np.log(1 - self._spamProbs)\n",
    "            y = 1 if spam > nonspam else 0\n",
    "            \n",
    "            Y.append(y)\n",
    "            \n",
    "        return np.array(Y)\n",
    "    \n",
    "    def accuracy(self, Y, YPredict):\n",
    "        return np.sum(Y == YPredict) / len(Y)"
   ]
  },
  {
   "cell_type": "code",
   "execution_count": 64,
   "metadata": {
    "collapsed": true
   },
   "outputs": [],
   "source": [
    "bayes = NaiveBayes()"
   ]
  },
  {
   "cell_type": "code",
   "execution_count": 65,
   "metadata": {
    "collapsed": true
   },
   "outputs": [],
   "source": [
    "bayes.fit(X, Y)"
   ]
  },
  {
   "cell_type": "code",
   "execution_count": 66,
   "metadata": {},
   "outputs": [
    {
     "data": {
      "text/plain": [
       "array([1, 0, 1, 0, 1, 0, 1, 0, 1, 0, 1, 0, 1, 0, 1, 0, 1, 0, 1, 0, 1, 0, 1,\n",
       "       0, 1, 0, 1, 0, 1, 0, 1, 0, 1, 0, 1, 0, 1, 0, 1, 0, 1, 0, 1, 0, 1, 0,\n",
       "       1, 0, 1, 0])"
      ]
     },
     "execution_count": 66,
     "metadata": {},
     "output_type": "execute_result"
    }
   ],
   "source": [
    "bayes.predict(X)"
   ]
  },
  {
   "cell_type": "code",
   "execution_count": 82,
   "metadata": {
    "collapsed": true
   },
   "outputs": [],
   "source": [
    "XTrain = X[:40]\n",
    "YTrain = Y[:40]\n",
    "\n",
    "XTest = X[40:]\n",
    "YTest = Y[40:]"
   ]
  },
  {
   "cell_type": "code",
   "execution_count": 83,
   "metadata": {
    "collapsed": true
   },
   "outputs": [],
   "source": [
    "bayes = NaiveBayes()\n",
    "bayes.fit(XTrain, YTrain)"
   ]
  },
  {
   "cell_type": "code",
   "execution_count": 84,
   "metadata": {},
   "outputs": [],
   "source": [
    "YTestPredict = bayes.predict(XTest)"
   ]
  },
  {
   "cell_type": "code",
   "execution_count": 85,
   "metadata": {},
   "outputs": [
    {
     "data": {
      "text/plain": [
       "1.0"
      ]
     },
     "execution_count": 85,
     "metadata": {},
     "output_type": "execute_result"
    }
   ],
   "source": [
    "bayes.accuracy(YTest, YTestPredict)"
   ]
  },
  {
   "cell_type": "code",
   "execution_count": null,
   "metadata": {
    "collapsed": true
   },
   "outputs": [],
   "source": []
  }
 ],
 "metadata": {
  "kernelspec": {
   "display_name": "Python 3",
   "language": "python",
   "name": "python3"
  },
  "language_info": {
   "codemirror_mode": {
    "name": "ipython",
    "version": 3
   },
   "file_extension": ".py",
   "mimetype": "text/x-python",
   "name": "python",
   "nbconvert_exporter": "python",
   "pygments_lexer": "ipython3",
   "version": "3.6.4"
  }
 },
 "nbformat": 4,
 "nbformat_minor": 2
}
