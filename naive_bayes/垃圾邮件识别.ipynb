{
 "cells": [
  {
   "cell_type": "code",
   "execution_count": 3,
   "metadata": {},
   "outputs": [],
   "source": [
    "import numpy as np\n",
    "import re"
   ]
  },
  {
   "cell_type": "code",
   "execution_count": 4,
   "metadata": {},
   "outputs": [],
   "source": [
    "SPAM_DIR = 'email/spam/'\n",
    "NONSPAM_DIR = 'email/ham/'"
   ]
  },
  {
   "cell_type": "code",
   "execution_count": null,
   "metadata": {},
   "outputs": [],
   "source": [
    "def loadDataset():\n",
    "    X = []\n",
    "    Y = []\n",
    "    \n",
    "    for i in range(1, 26):\n",
    "        spam_path = 'SPAM_DIR{}.txt'.format(i)\n",
    "        nonspam_path = 'NONSPAM_DIR{}.txt'.format(i)\n",
    "        \n",
    "        with open(spam_path) as f:\n",
    "            spam = f.read()\n",
    "            spamWords = re.split(r'\\W+', spam)\n",
    "            \n",
    "            X.append(spamWords)\n",
    "            Y.append(1)\n",
    "            \n",
    "            "
   ]
  }
 ],
 "metadata": {
  "kernelspec": {
   "display_name": "Python 3",
   "language": "python",
   "name": "python3"
  },
  "language_info": {
   "codemirror_mode": {
    "name": "ipython",
    "version": 3
   },
   "file_extension": ".py",
   "mimetype": "text/x-python",
   "name": "python",
   "nbconvert_exporter": "python",
   "pygments_lexer": "ipython3",
   "version": "3.6.4"
  }
 },
 "nbformat": 4,
 "nbformat_minor": 2
}
